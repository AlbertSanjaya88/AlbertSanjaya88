{
  "nbformat": 4,
  "nbformat_minor": 0,
  "metadata": {
    "colab": {
      "provenance": [],
      "authorship_tag": "ABX9TyNhzVoTt0ImFJ6ha+u3ICZ1",
      "include_colab_link": true
    },
    "kernelspec": {
      "name": "python3",
      "display_name": "Python 3"
    },
    "language_info": {
      "name": "python"
    }
  },
  "cells": [
    {
      "cell_type": "markdown",
      "metadata": {
        "id": "view-in-github",
        "colab_type": "text"
      },
      "source": [
        "<a href=\"https://colab.research.google.com/github/AlbertSanjaya88/AlbertSanjaya88/blob/main/Sentiment_Analysis_from_Google_Play_Reviews.ipynb\" target=\"_parent\"><img src=\"https://colab.research.google.com/assets/colab-badge.svg\" alt=\"Open In Colab\"/></a>"
      ]
    },
    {
      "cell_type": "code",
      "execution_count": null,
      "metadata": {
        "colab": {
          "base_uri": "https://localhost:8080/"
        },
        "id": "EOiLotWKv4hf",
        "outputId": "6e9acfce-4a47-4f9e-fc31-7c3c964e5075"
      },
      "outputs": [
        {
          "output_type": "stream",
          "name": "stdout",
          "text": [
            "Requirement already satisfied: google-play-scraper in /usr/local/lib/python3.10/dist-packages (1.2.7)\n",
            "10000 File Saved\n"
          ]
        }
      ],
      "source": [
        "!pip install google-play-scraper\n",
        "from google_play_scraper import reviews, app\n",
        "import pandas as pd\n",
        "\n",
        "# Ulasan aplikasi\n",
        "app_package = 'com.shopee.id'  # Ganti dengan ID aplikasi yang diinginkan\n",
        "result, _ = reviews(\n",
        "    app_package,\n",
        "    lang='id',  # Bahasa ulasan\n",
        "    country='id',  # Negara\n",
        "    count=10000  # Jumlah ulasan\n",
        ")\n",
        "\n",
        "# Simpan ke DataFrame\n",
        "df = pd.DataFrame(result)\n",
        "df.to_csv('playstore_reviews.csv', index=False)\n",
        "print(f\"{len(result)} File Saved\")"
      ]
    },
    {
      "cell_type": "code",
      "source": [
        "import numpy as np\n",
        "from sklearn.model_selection import train_test_split\n",
        "from sklearn.feature_extraction.text import TfidfVectorizer\n",
        "from sklearn.naive_bayes import MultinomialNB\n",
        "from sklearn.svm import SVC\n",
        "from sklearn.metrics import classification_report, accuracy_score\n",
        "import re\n",
        "import nltk  # Import nltk\n",
        "from nltk.corpus import stopwords\n",
        "from nltk.tokenize import word_tokenize\n",
        "\n",
        "# Download stopwords if not already downloaded\n",
        "nltk.download('stopwords')  # Download stopwords\n",
        "nltk.download('punkt_tab')\n",
        "\n",
        "# Load data\n",
        "file_path = 'playstore_reviews.csv'\n",
        "df = pd.read_csv(file_path)\n",
        "\n",
        "# Data preprocessing\n",
        "def clean_text(text):\n",
        "    text = re.sub(r'http\\S+', '', text)  # Remove URLs\n",
        "    text = re.sub(r'\\W', ' ', text)  # Remove non-alphanumeric characters\n",
        "    text = re.sub(r'\\s+', ' ', text)  # Remove multiple spaces\n",
        "    text = re.sub(r'\\d', '', text)  # Remove digits\n",
        "    text = text.lower().strip()  # Lowercase and strip\n",
        "    return text\n",
        "\n",
        "# Apply cleaning\n",
        "df['cleaned_review'] = df['content'].apply(clean_text)\n",
        "\n",
        "# Tokenization and Stopword Removal\n",
        "stop_words = set(stopwords.words('indonesian'))  # Install stopwords first using nltk.download('stopwords')\n",
        "df['tokenized_review'] = df['cleaned_review'].apply(\n",
        "    lambda x: ' '.join([word for word in word_tokenize(x) if word not in stop_words])\n",
        ")\n",
        "\n",
        "# Labeling Sentiment (Contoh: Positif jika bintang >= 3, Negatif jika bintang < 3)\n",
        "df['sentiment'] = df['score'].apply(lambda x: 1 if x >= 3 else 0)\n",
        "\n",
        "# Split data\n",
        "X = df['tokenized_review']\n",
        "y = df['sentiment']\n",
        "X_train, X_test, y_train, y_test = train_test_split(X, y, test_size=0.2, random_state=42)\n",
        "\n",
        "# TF-IDF Vectorization\n",
        "tfidf = TfidfVectorizer(max_features=5000)\n",
        "X_train_tfidf = tfidf.fit_transform(X_train)\n",
        "X_test_tfidf = tfidf.transform(X_test)\n",
        "\n",
        "# Naive Bayes Model\n",
        "nb_model = MultinomialNB()\n",
        "nb_model.fit(X_train_tfidf, y_train)\n",
        "nb_preds = nb_model.predict(X_test_tfidf)\n",
        "\n",
        "# SVM Model\n",
        "svm_model = SVC(kernel='linear')\n",
        "svm_model.fit(X_train_tfidf, y_train)\n",
        "svm_preds = svm_model.predict(X_test_tfidf)\n",
        "\n",
        "# Evaluation\n",
        "print(\"Naive Bayes Performance\")\n",
        "print(classification_report(y_test, nb_preds))\n",
        "print(f\"Accuracy: {accuracy_score(y_test, nb_preds)}\")\n",
        "\n",
        "print(\"\\nSVM Performance\")\n",
        "print(classification_report(y_test, svm_preds))\n",
        "print(f\"Accuracy: {accuracy_score(y_test, svm_preds)}\")"
      ],
      "metadata": {
        "id": "qVucxxd02VsC",
        "colab": {
          "base_uri": "https://localhost:8080/"
        },
        "outputId": "b6bc70b4-924d-4bb9-f59b-e5a5af447027"
      },
      "execution_count": null,
      "outputs": [
        {
          "output_type": "stream",
          "name": "stderr",
          "text": [
            "[nltk_data] Downloading package stopwords to /root/nltk_data...\n",
            "[nltk_data]   Package stopwords is already up-to-date!\n",
            "[nltk_data] Downloading package punkt_tab to /root/nltk_data...\n",
            "[nltk_data]   Package punkt_tab is already up-to-date!\n"
          ]
        },
        {
          "output_type": "stream",
          "name": "stdout",
          "text": [
            "Naive Bayes Performance\n",
            "              precision    recall  f1-score   support\n",
            "\n",
            "           0       0.83      0.46      0.59       372\n",
            "           1       0.89      0.98      0.93      1628\n",
            "\n",
            "    accuracy                           0.88      2000\n",
            "   macro avg       0.86      0.72      0.76      2000\n",
            "weighted avg       0.88      0.88      0.87      2000\n",
            "\n",
            "Accuracy: 0.8815\n",
            "\n",
            "SVM Performance\n",
            "              precision    recall  f1-score   support\n",
            "\n",
            "           0       0.75      0.61      0.67       372\n",
            "           1       0.91      0.95      0.93      1628\n",
            "\n",
            "    accuracy                           0.89      2000\n",
            "   macro avg       0.83      0.78      0.80      2000\n",
            "weighted avg       0.88      0.89      0.88      2000\n",
            "\n",
            "Accuracy: 0.8895\n"
          ]
        }
      ]
    }
  ]
}